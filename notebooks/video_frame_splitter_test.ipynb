{
 "cells": [
  {
   "cell_type": "code",
   "execution_count": null,
   "id": "e716b319-e3e8-4671-b4ba-d56c9e27a9ca",
   "metadata": {},
   "outputs": [],
   "source": [
    "import sys\n",
    "sys.path.append('../')"
   ]
  },
  {
   "cell_type": "code",
   "execution_count": null,
   "id": "19e8432c-6e7f-4fdb-9fd3-3fdeb7fe526e",
   "metadata": {},
   "outputs": [],
   "source": [
    "from pathlib import Path\n",
    "from src.video_frame_splitter import VideoFrameSplitter\n",
    "from src.video_scene_detector import VideoSceneDetector\n",
    "from src.visualization.jupyter import visualize_frames"
   ]
  },
  {
   "cell_type": "markdown",
   "id": "dc2100df-00bb-4a37-8351-5a279db1baf8",
   "metadata": {},
   "source": [
    "# Test video frame splitter simple"
   ]
  },
  {
   "cell_type": "code",
   "execution_count": null,
   "id": "66b354e2-171f-4b03-a770-79a511b3cd73",
   "metadata": {},
   "outputs": [],
   "source": [
    "start_idx = 0\n",
    "start_sec = 0\n",
    "frame_interval = None\n",
    "frame_interval_sec = 1\n",
    "frame_max_size = 512\n",
    "n_frames_max = None\n",
    "n_sec_max = None\n",
    "\n",
    "dataset_dir = Path('/Users/raufagfarov/datasets/xhamster/moments')\n",
    "# video_name = '25081955_2160p.h264.mp4'\n",
    "video_name = '25278916_1080p.h264.mp4'\n",
    "video_path = dataset_dir / video_name\n",
    "\n",
    "video_frame_splitter = VideoFrameSplitter(\n",
    "    start_sec=start_sec,\n",
    "    frame_interval_sec=frame_interval_sec,\n",
    "    frame_max_size=frame_max_size,\n",
    "    n_frames_max=n_frames_max,\n",
    "    n_sec_max=n_sec_max\n",
    ")\n",
    "\n",
    "video_frames_data = video_frame_splitter(video_path)"
   ]
  },
  {
   "cell_type": "code",
   "execution_count": null,
   "id": "84640b42-c66d-417f-b128-0f792505384c",
   "metadata": {},
   "outputs": [],
   "source": [
    "print(video_frames_data)"
   ]
  },
  {
   "cell_type": "code",
   "execution_count": null,
   "id": "2b6365ba-9576-4609-b305-57fde4463ad7",
   "metadata": {},
   "outputs": [],
   "source": [
    "visualize_frames(video_frames_data.frames)"
   ]
  },
  {
   "cell_type": "markdown",
   "id": "aa68a26c-04a1-40f7-87f5-3aba23913a60",
   "metadata": {},
   "source": [
    "# Test video frame splitter based on scene detector results"
   ]
  },
  {
   "cell_type": "code",
   "execution_count": null,
   "id": "e24a8a7d-5679-4665-99a5-8e39226fe0e7",
   "metadata": {},
   "outputs": [],
   "source": [
    "frame_max_size = 512\n",
    "n_frames_per_scene = 1\n",
    "\n",
    "dataset_dir = Path('/Users/raufagfarov/datasets/xhamster/moments')\n",
    "# video_name = '25081955_2160p.h264.mp4'\n",
    "video_name = '25278916_1080p.h264.mp4'\n",
    "video_path = dataset_dir / video_name\n",
    "\n",
    "video_scene_detector = VideoSceneDetector()\n",
    "scene_list = video_scene_detector(video_path)\n",
    "\n",
    "video_frame_splitter = VideoFrameSplitter(frame_max_size=frame_max_size)\n",
    "\n",
    "video_frames_data = video_frame_splitter(\n",
    "    video_path,\n",
    "    scene_list=scene_list,\n",
    "    n_frames_per_scene=n_frames_per_scene\n",
    ")"
   ]
  },
  {
   "cell_type": "code",
   "execution_count": null,
   "id": "9e114822-8cef-49d1-9df1-58ccd655728f",
   "metadata": {},
   "outputs": [],
   "source": [
    "print(video_frames_data)"
   ]
  },
  {
   "cell_type": "code",
   "execution_count": null,
   "id": "155c859c-954a-436e-ac34-1859a9a728b7",
   "metadata": {},
   "outputs": [],
   "source": [
    "visualize_frames(video_frames_data.frames)"
   ]
  },
  {
   "cell_type": "code",
   "execution_count": null,
   "id": "5f8778ad-b011-4b86-a47b-3928f66fd606",
   "metadata": {},
   "outputs": [],
   "source": []
  }
 ],
 "metadata": {
  "kernelspec": {
   "display_name": "Python 3 (ipykernel)",
   "language": "python",
   "name": "python3"
  },
  "language_info": {
   "codemirror_mode": {
    "name": "ipython",
    "version": 3
   },
   "file_extension": ".py",
   "mimetype": "text/x-python",
   "name": "python",
   "nbconvert_exporter": "python",
   "pygments_lexer": "ipython3",
   "version": "3.10.14"
  }
 },
 "nbformat": 4,
 "nbformat_minor": 5
}
