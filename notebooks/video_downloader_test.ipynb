{
 "cells": [
  {
   "cell_type": "code",
   "execution_count": null,
   "id": "5a2ce5cb-3a2f-4224-b09c-b25c10b83298",
   "metadata": {},
   "outputs": [],
   "source": [
    "import sys\n",
    "sys.path.append('../')"
   ]
  },
  {
   "cell_type": "code",
   "execution_count": null,
   "id": "a7653e83-293f-47d6-b28e-1f0c0b4c18ce",
   "metadata": {},
   "outputs": [],
   "source": [
    "from pathlib import Path\n",
    "from IPython.display import Video\n",
    "from src.video_downloader import VideoDownloader"
   ]
  },
  {
   "cell_type": "markdown",
   "id": "82d87592-d795-400e-96b0-054d0679a0ab",
   "metadata": {},
   "source": [
    "# Test download video"
   ]
  },
  {
   "cell_type": "code",
   "execution_count": null,
   "id": "c3e4248f-0b07-4544-b94a-e02591b36657",
   "metadata": {},
   "outputs": [],
   "source": [
    "secret = 'mo5gdxUHN468lI91'\n",
    "url_template = 'https://upload.xhamster.com/api/ml/v1/video/source?ids={}&secret={}'\n",
    "quality = 'max'\n",
    "save_dir = Path('/Users/raufagfarov/datasets/xhamster/moments')\n",
    "save_dir.mkdir(exist_ok=True)\n",
    "\n",
    "video_downloader = VideoDownloader(\n",
    "    url_template=url_template,\n",
    "    secret=secret,\n",
    "    quality=quality,\n",
    "    save_dir=save_dir,\n",
    ")\n",
    "\n",
    "video_ids = [\n",
    "    '24456495', \n",
    "    '24456487',\n",
    "    # '25081955'\n",
    "]\n",
    "\n",
    "video_downloader(video_ids)"
   ]
  },
  {
   "cell_type": "code",
   "execution_count": null,
   "id": "dd89025a-a873-407f-b8b9-39aae145a275",
   "metadata": {},
   "outputs": [],
   "source": [
    "Video(\n",
    "    '/Users/raufagfarov/datasets/xhamster/moments/24456495_1080p.h264.mp4', \n",
    "    height=512,\n",
    "    embed=True\n",
    ")"
   ]
  },
  {
   "cell_type": "code",
   "execution_count": null,
   "id": "7c853d15-0766-47f8-b2e9-47bbf9756ef6",
   "metadata": {},
   "outputs": [],
   "source": []
  }
 ],
 "metadata": {
  "kernelspec": {
   "display_name": "Python 3 (ipykernel)",
   "language": "python",
   "name": "python3"
  },
  "language_info": {
   "codemirror_mode": {
    "name": "ipython",
    "version": 3
   },
   "file_extension": ".py",
   "mimetype": "text/x-python",
   "name": "python",
   "nbconvert_exporter": "python",
   "pygments_lexer": "ipython3",
   "version": "3.10.14"
  }
 },
 "nbformat": 4,
 "nbformat_minor": 5
}
