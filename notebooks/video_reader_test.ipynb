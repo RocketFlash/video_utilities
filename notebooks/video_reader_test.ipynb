{
 "cells": [
  {
   "cell_type": "code",
   "execution_count": null,
   "id": "5a2ce5cb-3a2f-4224-b09c-b25c10b83298",
   "metadata": {},
   "outputs": [],
   "source": [
    "import sys\n",
    "sys.path.append('../')"
   ]
  },
  {
   "cell_type": "code",
   "execution_count": null,
   "id": "a7653e83-293f-47d6-b28e-1f0c0b4c18ce",
   "metadata": {},
   "outputs": [],
   "source": [
    "from pathlib import Path\n",
    "from src.video_downloader import VideoDownloader\n",
    "from src.video_reader import VideoReader\n",
    "from src.visualization.jupyter import visualize_frames"
   ]
  },
  {
   "cell_type": "markdown",
   "id": "82d87592-d795-400e-96b0-054d0679a0ab",
   "metadata": {},
   "source": [
    "# Test download video"
   ]
  },
  {
   "cell_type": "code",
   "execution_count": null,
   "id": "c3e4248f-0b07-4544-b94a-e02591b36657",
   "metadata": {},
   "outputs": [],
   "source": [
    "secret = 'mo5gdxUHN468lI91'\n",
    "url_template = 'https://upload.xhamster.com/api/ml/v1/video/source?ids={}&secret={}'\n",
    "quality = 'max'\n",
    "save_dir = Path('/Users/raufagfarov/datasets/xhamster/moments')\n",
    "save_dir.mkdir(exist_ok=True)\n",
    "\n",
    "video_downloader = VideoDownloader(\n",
    "    url_template=url_template,\n",
    "    secret=secret,\n",
    "    quality=quality,\n",
    "    save_dir=save_dir,\n",
    ")\n",
    "\n",
    "video_ids = [\n",
    "    '24456495', \n",
    "    '24456487',\n",
    "    '25081955'\n",
    "]\n",
    "\n",
    "video_downloader(video_ids)"
   ]
  },
  {
   "cell_type": "markdown",
   "id": "bcb00247-46c0-42f1-bf03-c1019c836915",
   "metadata": {},
   "source": [
    "# Test video reader"
   ]
  },
  {
   "cell_type": "code",
   "execution_count": null,
   "id": "3e0f6694-462b-4a99-b1c2-85b9d38f7c26",
   "metadata": {},
   "outputs": [],
   "source": [
    "start_idx = 0\n",
    "start_sec = 10\n",
    "frame_interval = 100\n",
    "frame_interval_sec = 0.5\n",
    "frame_max_size = 256\n",
    "n_frames_max = None\n",
    "n_sec_max = 30\n",
    "\n",
    "dataset_dir = Path('/Users/raufagfarov/datasets/xhamster/moments')\n",
    "video_name = '25081955_2160p.h264.mp4'\n",
    "video_path = dataset_dir / video_name\n",
    "\n",
    "video_reader = VideoReader(\n",
    "    start_sec=start_sec,\n",
    "    frame_interval_sec=frame_interval_sec,\n",
    "    frame_max_size=frame_max_size,\n",
    "    n_frames_max=n_frames_max,\n",
    "    n_sec_max=n_sec_max\n",
    ")\n",
    "\n",
    "video_frames_data = video_reader(video_path)"
   ]
  },
  {
   "cell_type": "code",
   "execution_count": null,
   "id": "ff424a70-77b4-401a-8dc3-b7ed5f624162",
   "metadata": {},
   "outputs": [],
   "source": [
    "print(video_frames_data)"
   ]
  },
  {
   "cell_type": "code",
   "execution_count": null,
   "id": "44e589ea-5711-4164-bc37-5dd52458633a",
   "metadata": {},
   "outputs": [],
   "source": [
    "visualize_frames(video_frames_data.frames)"
   ]
  },
  {
   "cell_type": "code",
   "execution_count": null,
   "id": "ebe5aca7-ec28-4d35-8c6a-9c43d19a70b6",
   "metadata": {},
   "outputs": [],
   "source": []
  }
 ],
 "metadata": {
  "kernelspec": {
   "display_name": "Python 3 (ipykernel)",
   "language": "python",
   "name": "python3"
  },
  "language_info": {
   "codemirror_mode": {
    "name": "ipython",
    "version": 3
   },
   "file_extension": ".py",
   "mimetype": "text/x-python",
   "name": "python",
   "nbconvert_exporter": "python",
   "pygments_lexer": "ipython3",
   "version": "3.10.14"
  }
 },
 "nbformat": 4,
 "nbformat_minor": 5
}
